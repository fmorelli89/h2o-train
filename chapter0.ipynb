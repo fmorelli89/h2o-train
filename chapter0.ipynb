{
 "cells": [
  {
   "cell_type": "code",
   "execution_count": 1,
   "metadata": {},
   "outputs": [
    {
     "name": "stdout",
     "output_type": "stream",
     "text": [
      "Checking whether there is an H2O instance running at http://localhost:54321. connected.\n"
     ]
    },
    {
     "data": {
      "text/html": [
       "<div style=\"overflow:auto\"><table style=\"width:50%\"><tr><td>H2O cluster uptime:</td>\n",
       "<td>39 secs</td></tr>\n",
       "<tr><td>H2O cluster timezone:</td>\n",
       "<td>Europe/Rome</td></tr>\n",
       "<tr><td>H2O data parsing timezone:</td>\n",
       "<td>UTC</td></tr>\n",
       "<tr><td>H2O cluster version:</td>\n",
       "<td>3.20.0.6</td></tr>\n",
       "<tr><td>H2O cluster version age:</td>\n",
       "<td>10 days </td></tr>\n",
       "<tr><td>H2O cluster name:</td>\n",
       "<td>francesco</td></tr>\n",
       "<tr><td>H2O cluster total nodes:</td>\n",
       "<td>1</td></tr>\n",
       "<tr><td>H2O cluster free memory:</td>\n",
       "<td>3.893 Gb</td></tr>\n",
       "<tr><td>H2O cluster total cores:</td>\n",
       "<td>4</td></tr>\n",
       "<tr><td>H2O cluster allowed cores:</td>\n",
       "<td>4</td></tr>\n",
       "<tr><td>H2O cluster status:</td>\n",
       "<td>locked, healthy</td></tr>\n",
       "<tr><td>H2O connection url:</td>\n",
       "<td>http://localhost:54321</td></tr>\n",
       "<tr><td>H2O connection proxy:</td>\n",
       "<td>None</td></tr>\n",
       "<tr><td>H2O internal security:</td>\n",
       "<td>False</td></tr>\n",
       "<tr><td>H2O API Extensions:</td>\n",
       "<td>XGBoost, Algos, AutoML, Core V3, Core V4</td></tr>\n",
       "<tr><td>Python version:</td>\n",
       "<td>3.6.6 final</td></tr></table></div>"
      ],
      "text/plain": [
       "--------------------------  ----------------------------------------\n",
       "H2O cluster uptime:         39 secs\n",
       "H2O cluster timezone:       Europe/Rome\n",
       "H2O data parsing timezone:  UTC\n",
       "H2O cluster version:        3.20.0.6\n",
       "H2O cluster version age:    10 days\n",
       "H2O cluster name:           francesco\n",
       "H2O cluster total nodes:    1\n",
       "H2O cluster free memory:    3.893 Gb\n",
       "H2O cluster total cores:    4\n",
       "H2O cluster allowed cores:  4\n",
       "H2O cluster status:         locked, healthy\n",
       "H2O connection url:         http://localhost:54321\n",
       "H2O connection proxy:\n",
       "H2O internal security:      False\n",
       "H2O API Extensions:         XGBoost, Algos, AutoML, Core V3, Core V4\n",
       "Python version:             3.6.6 final\n",
       "--------------------------  ----------------------------------------"
      ]
     },
     "metadata": {},
     "output_type": "display_data"
    }
   ],
   "source": [
    "import h2o\n",
    "\n",
    "#in virtual enviromnet (as Anaconda, manual strat-up h2o jar service)\n",
    "#h2o jar position /home/francesco/anaconda3/lib/python3.6/site-packages/h2o/backend/bin\n",
    "#with 3gb java -Xmx3g -jar /path/to/h2o.jar\n",
    "#with hdfs support java -jar h2o.jar -hdfs_config core-site.xml\n",
    "h2o.init()"
   ]
  },
  {
   "cell_type": "code",
   "execution_count": 2,
   "metadata": {},
   "outputs": [
    {
     "name": "stdout",
     "output_type": "stream",
     "text": [
      "Parse progress: |█████████████████████████████████████████████████████████| 100%\n"
     ]
    }
   ],
   "source": [
    "irisUrl = 'http://archive.ics.uci.edu/ml/machine-learning-databases/iris/iris.data'\n",
    "data = h2o.import_file(irisUrl)"
   ]
  },
  {
   "cell_type": "code",
   "execution_count": 3,
   "metadata": {},
   "outputs": [],
   "source": [
    "data.col_names=['sepal_length','sepal_width','petal_length','petal_width','species']"
   ]
  },
  {
   "cell_type": "code",
   "execution_count": 4,
   "metadata": {},
   "outputs": [
    {
     "name": "stdout",
     "output_type": "stream",
     "text": [
      "Rows:150\n",
      "Cols:5\n",
      "\n",
      "\n"
     ]
    },
    {
     "data": {
      "text/html": [
       "<table>\n",
       "<thead>\n",
       "<tr><th>       </th><th>sepal_length      </th><th>sepal_width        </th><th>petal_length     </th><th>petal_width       </th><th>species    </th></tr>\n",
       "</thead>\n",
       "<tbody>\n",
       "<tr><td>type   </td><td>real              </td><td>real               </td><td>real             </td><td>real              </td><td>enum       </td></tr>\n",
       "<tr><td>mins   </td><td>4.3               </td><td>2.0                </td><td>1.0              </td><td>0.1               </td><td>           </td></tr>\n",
       "<tr><td>mean   </td><td>5.843333333333333 </td><td>3.053999999999999  </td><td>3.758666666666667</td><td>1.1986666666666665</td><td>           </td></tr>\n",
       "<tr><td>maxs   </td><td>7.9               </td><td>4.4                </td><td>6.9              </td><td>2.5               </td><td>           </td></tr>\n",
       "<tr><td>sigma  </td><td>0.8280661279778637</td><td>0.43359431136217375</td><td>1.764420419952262</td><td>0.7631607417008414</td><td>           </td></tr>\n",
       "<tr><td>zeros  </td><td>0                 </td><td>0                  </td><td>0                </td><td>0                 </td><td>           </td></tr>\n",
       "<tr><td>missing</td><td>0                 </td><td>0                  </td><td>0                </td><td>0                 </td><td>0          </td></tr>\n",
       "<tr><td>0      </td><td>5.1               </td><td>3.5                </td><td>1.4              </td><td>0.2               </td><td>Iris-setosa</td></tr>\n",
       "<tr><td>1      </td><td>4.9               </td><td>3.0                </td><td>1.4              </td><td>0.2               </td><td>Iris-setosa</td></tr>\n",
       "<tr><td>2      </td><td>4.7               </td><td>3.2                </td><td>1.3              </td><td>0.2               </td><td>Iris-setosa</td></tr>\n",
       "<tr><td>3      </td><td>4.6               </td><td>3.1                </td><td>1.5              </td><td>0.2               </td><td>Iris-setosa</td></tr>\n",
       "<tr><td>4      </td><td>5.0               </td><td>3.6                </td><td>1.4              </td><td>0.2               </td><td>Iris-setosa</td></tr>\n",
       "<tr><td>5      </td><td>5.4               </td><td>3.9                </td><td>1.7              </td><td>0.4               </td><td>Iris-setosa</td></tr>\n",
       "<tr><td>6      </td><td>4.6               </td><td>3.4                </td><td>1.4              </td><td>0.3               </td><td>Iris-setosa</td></tr>\n",
       "<tr><td>7      </td><td>5.0               </td><td>3.4                </td><td>1.5              </td><td>0.2               </td><td>Iris-setosa</td></tr>\n",
       "<tr><td>8      </td><td>4.4               </td><td>2.9                </td><td>1.4              </td><td>0.2               </td><td>Iris-setosa</td></tr>\n",
       "<tr><td>9      </td><td>4.9               </td><td>3.1                </td><td>1.5              </td><td>0.1               </td><td>Iris-setosa</td></tr>\n",
       "</tbody>\n",
       "</table>"
      ]
     },
     "metadata": {},
     "output_type": "display_data"
    }
   ],
   "source": [
    "data.describe()"
   ]
  },
  {
   "cell_type": "code",
   "execution_count": 5,
   "metadata": {},
   "outputs": [],
   "source": [
    "y = 'species'\n",
    "x = data.names # data.columns\n",
    "x.remove(y)\n",
    "train,test = data.split_frame(ratios=[0.8])"
   ]
  },
  {
   "cell_type": "code",
   "execution_count": 6,
   "metadata": {},
   "outputs": [
    {
     "name": "stdout",
     "output_type": "stream",
     "text": [
      "deeplearning Model Build progress: |██████████████████████████████████████| 100%\n",
      "deeplearning prediction progress: |███████████████████████████████████████| 100%\n"
     ]
    }
   ],
   "source": [
    "m = h2o.estimators.deeplearning.H2ODeepLearningEstimator()\n",
    "m.train(x, y, train)\n",
    "p = m.predict(test)"
   ]
  },
  {
   "cell_type": "code",
   "execution_count": 7,
   "metadata": {},
   "outputs": [
    {
     "name": "stdout",
     "output_type": "stream",
     "text": [
      "Model Details\n",
      "=============\n",
      "H2ODeepLearningEstimator :  Deep Learning\n",
      "Model Key:  DeepLearning_model_python_1536052663236_1\n",
      "\n",
      "\n",
      "ModelMetricsMultinomial: deeplearning\n",
      "** Reported on train data. **\n",
      "\n",
      "MSE: 0.16210208262280112\n",
      "RMSE: 0.40261902913647923\n",
      "LogLoss: 0.7328202312957685\n",
      "Mean Per-Class Error: 0.19704319704319703\n",
      "Confusion Matrix: Row labels: Actual class; Column labels: Predicted class\n",
      "\n"
     ]
    },
    {
     "data": {
      "text/html": [
       "<div style=\"overflow:auto\"><table style=\"width:50%\"><tr><td><b>Iris-setosa</b></td>\n",
       "<td><b>Iris-versicolor</b></td>\n",
       "<td><b>Iris-virginica</b></td>\n",
       "<td><b>Error</b></td>\n",
       "<td><b>Rate</b></td></tr>\n",
       "<tr><td>36.0</td>\n",
       "<td>1.0</td>\n",
       "<td>0.0</td>\n",
       "<td>0.0270270</td>\n",
       "<td>1 / 37</td></tr>\n",
       "<tr><td>0.0</td>\n",
       "<td>40.0</td>\n",
       "<td>0.0</td>\n",
       "<td>0.0</td>\n",
       "<td>0 / 40</td></tr>\n",
       "<tr><td>0.0</td>\n",
       "<td>22.0</td>\n",
       "<td>17.0</td>\n",
       "<td>0.5641026</td>\n",
       "<td>22 / 39</td></tr>\n",
       "<tr><td>36.0</td>\n",
       "<td>63.0</td>\n",
       "<td>17.0</td>\n",
       "<td>0.1982759</td>\n",
       "<td>23 / 116</td></tr></table></div>"
      ],
      "text/plain": [
       "Iris-setosa    Iris-versicolor    Iris-virginica    Error     Rate\n",
       "-------------  -----------------  ----------------  --------  --------\n",
       "36             1                  0                 0.027027  1 / 37\n",
       "0              40                 0                 0         0 / 40\n",
       "0              22                 17                0.564103  22 / 39\n",
       "36             63                 17                0.198276  23 / 116"
      ]
     },
     "metadata": {},
     "output_type": "display_data"
    },
    {
     "name": "stdout",
     "output_type": "stream",
     "text": [
      "Top-3 Hit Ratios: \n"
     ]
    },
    {
     "data": {
      "text/html": [
       "<div style=\"overflow:auto\"><table style=\"width:50%\"><tr><td><b>k</b></td>\n",
       "<td><b>hit_ratio</b></td></tr>\n",
       "<tr><td>1</td>\n",
       "<td>0.8017241</td></tr>\n",
       "<tr><td>2</td>\n",
       "<td>1.0</td></tr>\n",
       "<tr><td>3</td>\n",
       "<td>1.0</td></tr></table></div>"
      ],
      "text/plain": [
       "k    hit_ratio\n",
       "---  -----------\n",
       "1    0.801724\n",
       "2    1\n",
       "3    1"
      ]
     },
     "metadata": {},
     "output_type": "display_data"
    },
    {
     "name": "stdout",
     "output_type": "stream",
     "text": [
      "Scoring History: \n"
     ]
    },
    {
     "data": {
      "text/html": [
       "<div style=\"overflow:auto\"><table style=\"width:50%\"><tr><td><b></b></td>\n",
       "<td><b>timestamp</b></td>\n",
       "<td><b>duration</b></td>\n",
       "<td><b>training_speed</b></td>\n",
       "<td><b>epochs</b></td>\n",
       "<td><b>iterations</b></td>\n",
       "<td><b>samples</b></td>\n",
       "<td><b>training_rmse</b></td>\n",
       "<td><b>training_logloss</b></td>\n",
       "<td><b>training_r2</b></td>\n",
       "<td><b>training_classification_error</b></td></tr>\n",
       "<tr><td></td>\n",
       "<td>2018-09-04 11:21:41</td>\n",
       "<td> 0.000 sec</td>\n",
       "<td>None</td>\n",
       "<td>0.0</td>\n",
       "<td>0</td>\n",
       "<td>0.0</td>\n",
       "<td>nan</td>\n",
       "<td>nan</td>\n",
       "<td>nan</td>\n",
       "<td>nan</td></tr>\n",
       "<tr><td></td>\n",
       "<td>2018-09-04 11:21:41</td>\n",
       "<td> 0.670 sec</td>\n",
       "<td>289 obs/sec</td>\n",
       "<td>1.0</td>\n",
       "<td>1</td>\n",
       "<td>116.0</td>\n",
       "<td>0.6412179</td>\n",
       "<td>1.6669734</td>\n",
       "<td>0.3721546</td>\n",
       "<td>0.5431034</td></tr>\n",
       "<tr><td></td>\n",
       "<td>2018-09-04 11:21:42</td>\n",
       "<td> 1.144 sec</td>\n",
       "<td>1344 obs/sec</td>\n",
       "<td>10.0</td>\n",
       "<td>10</td>\n",
       "<td>1160.0</td>\n",
       "<td>0.4026190</td>\n",
       "<td>0.7328202</td>\n",
       "<td>0.7524687</td>\n",
       "<td>0.1982759</td></tr></table></div>"
      ],
      "text/plain": [
       "    timestamp            duration    training_speed    epochs    iterations    samples    training_rmse    training_logloss    training_r2    training_classification_error\n",
       "--  -------------------  ----------  ----------------  --------  ------------  ---------  ---------------  ------------------  -------------  -------------------------------\n",
       "    2018-09-04 11:21:41  0.000 sec                     0         0             0          nan              nan                 nan            nan\n",
       "    2018-09-04 11:21:41  0.670 sec   289 obs/sec       1         1             116        0.641218         1.66697             0.372155       0.543103\n",
       "    2018-09-04 11:21:42  1.144 sec   1344 obs/sec      10        10            1160       0.402619         0.73282             0.752469       0.198276"
      ]
     },
     "metadata": {},
     "output_type": "display_data"
    },
    {
     "name": "stdout",
     "output_type": "stream",
     "text": [
      "Variable Importances: \n"
     ]
    },
    {
     "data": {
      "text/html": [
       "<div style=\"overflow:auto\"><table style=\"width:50%\"><tr><td><b>variable</b></td>\n",
       "<td><b>relative_importance</b></td>\n",
       "<td><b>scaled_importance</b></td>\n",
       "<td><b>percentage</b></td></tr>\n",
       "<tr><td>petal_width</td>\n",
       "<td>1.0</td>\n",
       "<td>1.0</td>\n",
       "<td>0.2749441</td></tr>\n",
       "<tr><td>petal_length</td>\n",
       "<td>0.9331487</td>\n",
       "<td>0.9331487</td>\n",
       "<td>0.2565638</td></tr>\n",
       "<tr><td>sepal_width</td>\n",
       "<td>0.8724458</td>\n",
       "<td>0.8724458</td>\n",
       "<td>0.2398739</td></tr>\n",
       "<tr><td>sepal_length</td>\n",
       "<td>0.8315079</td>\n",
       "<td>0.8315079</td>\n",
       "<td>0.2286182</td></tr></table></div>"
      ],
      "text/plain": [
       "variable      relative_importance    scaled_importance    percentage\n",
       "------------  ---------------------  -------------------  ------------\n",
       "petal_width   1                      1                    0.274944\n",
       "petal_length  0.933149               0.933149             0.256564\n",
       "sepal_width   0.872446               0.872446             0.239874\n",
       "sepal_length  0.831508               0.831508             0.228618"
      ]
     },
     "metadata": {},
     "output_type": "display_data"
    },
    {
     "data": {
      "text/plain": []
     },
     "execution_count": 7,
     "metadata": {},
     "output_type": "execute_result"
    }
   ],
   "source": [
    "m"
   ]
  },
  {
   "cell_type": "code",
   "execution_count": 9,
   "metadata": {},
   "outputs": [
    {
     "data": {
      "text/html": [
       "<div>\n",
       "<style scoped>\n",
       "    .dataframe tbody tr th:only-of-type {\n",
       "        vertical-align: middle;\n",
       "    }\n",
       "\n",
       "    .dataframe tbody tr th {\n",
       "        vertical-align: top;\n",
       "    }\n",
       "\n",
       "    .dataframe thead th {\n",
       "        text-align: right;\n",
       "    }\n",
       "</style>\n",
       "<table border=\"1\" class=\"dataframe\">\n",
       "  <thead>\n",
       "    <tr style=\"text-align: right;\">\n",
       "      <th></th>\n",
       "      <th>predict</th>\n",
       "      <th>Iris-setosa</th>\n",
       "      <th>Iris-versicolor</th>\n",
       "      <th>Iris-virginica</th>\n",
       "    </tr>\n",
       "  </thead>\n",
       "  <tbody>\n",
       "    <tr>\n",
       "      <th>0</th>\n",
       "      <td>Iris-setosa</td>\n",
       "      <td>9.602624e-01</td>\n",
       "      <td>0.039738</td>\n",
       "      <td>6.650258e-17</td>\n",
       "    </tr>\n",
       "    <tr>\n",
       "      <th>1</th>\n",
       "      <td>Iris-setosa</td>\n",
       "      <td>9.945979e-01</td>\n",
       "      <td>0.005402</td>\n",
       "      <td>1.361889e-17</td>\n",
       "    </tr>\n",
       "    <tr>\n",
       "      <th>2</th>\n",
       "      <td>Iris-setosa</td>\n",
       "      <td>9.902413e-01</td>\n",
       "      <td>0.009759</td>\n",
       "      <td>5.091820e-17</td>\n",
       "    </tr>\n",
       "    <tr>\n",
       "      <th>3</th>\n",
       "      <td>Iris-setosa</td>\n",
       "      <td>9.959036e-01</td>\n",
       "      <td>0.004096</td>\n",
       "      <td>3.620642e-17</td>\n",
       "    </tr>\n",
       "    <tr>\n",
       "      <th>4</th>\n",
       "      <td>Iris-setosa</td>\n",
       "      <td>9.947453e-01</td>\n",
       "      <td>0.005255</td>\n",
       "      <td>3.896815e-18</td>\n",
       "    </tr>\n",
       "    <tr>\n",
       "      <th>5</th>\n",
       "      <td>Iris-setosa</td>\n",
       "      <td>9.977429e-01</td>\n",
       "      <td>0.002257</td>\n",
       "      <td>7.486175e-18</td>\n",
       "    </tr>\n",
       "    <tr>\n",
       "      <th>6</th>\n",
       "      <td>Iris-setosa</td>\n",
       "      <td>9.586105e-01</td>\n",
       "      <td>0.041389</td>\n",
       "      <td>3.894072e-17</td>\n",
       "    </tr>\n",
       "    <tr>\n",
       "      <th>7</th>\n",
       "      <td>Iris-setosa</td>\n",
       "      <td>9.401845e-01</td>\n",
       "      <td>0.059816</td>\n",
       "      <td>2.151848e-15</td>\n",
       "    </tr>\n",
       "    <tr>\n",
       "      <th>8</th>\n",
       "      <td>Iris-setosa</td>\n",
       "      <td>9.481258e-01</td>\n",
       "      <td>0.051874</td>\n",
       "      <td>1.923371e-16</td>\n",
       "    </tr>\n",
       "    <tr>\n",
       "      <th>9</th>\n",
       "      <td>Iris-setosa</td>\n",
       "      <td>9.932156e-01</td>\n",
       "      <td>0.006784</td>\n",
       "      <td>3.943729e-17</td>\n",
       "    </tr>\n",
       "    <tr>\n",
       "      <th>10</th>\n",
       "      <td>Iris-setosa</td>\n",
       "      <td>9.865046e-01</td>\n",
       "      <td>0.013495</td>\n",
       "      <td>1.347753e-15</td>\n",
       "    </tr>\n",
       "    <tr>\n",
       "      <th>11</th>\n",
       "      <td>Iris-setosa</td>\n",
       "      <td>9.966037e-01</td>\n",
       "      <td>0.003396</td>\n",
       "      <td>1.099557e-16</td>\n",
       "    </tr>\n",
       "    <tr>\n",
       "      <th>12</th>\n",
       "      <td>Iris-setosa</td>\n",
       "      <td>9.954089e-01</td>\n",
       "      <td>0.004591</td>\n",
       "      <td>2.010782e-17</td>\n",
       "    </tr>\n",
       "    <tr>\n",
       "      <th>13</th>\n",
       "      <td>Iris-versicolor</td>\n",
       "      <td>1.743851e-05</td>\n",
       "      <td>0.999983</td>\n",
       "      <td>2.023677e-08</td>\n",
       "    </tr>\n",
       "    <tr>\n",
       "      <th>14</th>\n",
       "      <td>Iris-versicolor</td>\n",
       "      <td>6.241194e-06</td>\n",
       "      <td>0.996537</td>\n",
       "      <td>3.457070e-03</td>\n",
       "    </tr>\n",
       "    <tr>\n",
       "      <th>15</th>\n",
       "      <td>Iris-versicolor</td>\n",
       "      <td>5.422481e-08</td>\n",
       "      <td>0.999995</td>\n",
       "      <td>5.099520e-06</td>\n",
       "    </tr>\n",
       "    <tr>\n",
       "      <th>16</th>\n",
       "      <td>Iris-versicolor</td>\n",
       "      <td>2.426413e-06</td>\n",
       "      <td>0.999975</td>\n",
       "      <td>2.220275e-05</td>\n",
       "    </tr>\n",
       "    <tr>\n",
       "      <th>17</th>\n",
       "      <td>Iris-versicolor</td>\n",
       "      <td>1.003560e-05</td>\n",
       "      <td>0.999990</td>\n",
       "      <td>6.613290e-08</td>\n",
       "    </tr>\n",
       "    <tr>\n",
       "      <th>18</th>\n",
       "      <td>Iris-versicolor</td>\n",
       "      <td>4.798333e-05</td>\n",
       "      <td>0.999888</td>\n",
       "      <td>6.418248e-05</td>\n",
       "    </tr>\n",
       "    <tr>\n",
       "      <th>19</th>\n",
       "      <td>Iris-versicolor</td>\n",
       "      <td>4.243089e-05</td>\n",
       "      <td>0.999921</td>\n",
       "      <td>3.703556e-05</td>\n",
       "    </tr>\n",
       "    <tr>\n",
       "      <th>20</th>\n",
       "      <td>Iris-versicolor</td>\n",
       "      <td>7.629477e-06</td>\n",
       "      <td>0.999991</td>\n",
       "      <td>1.170415e-06</td>\n",
       "    </tr>\n",
       "    <tr>\n",
       "      <th>21</th>\n",
       "      <td>Iris-versicolor</td>\n",
       "      <td>9.714303e-06</td>\n",
       "      <td>0.999989</td>\n",
       "      <td>1.336911e-06</td>\n",
       "    </tr>\n",
       "    <tr>\n",
       "      <th>22</th>\n",
       "      <td>Iris-versicolor</td>\n",
       "      <td>1.474734e-05</td>\n",
       "      <td>0.999985</td>\n",
       "      <td>6.092335e-07</td>\n",
       "    </tr>\n",
       "    <tr>\n",
       "      <th>23</th>\n",
       "      <td>Iris-virginica</td>\n",
       "      <td>5.772449e-11</td>\n",
       "      <td>0.000459</td>\n",
       "      <td>9.995408e-01</td>\n",
       "    </tr>\n",
       "    <tr>\n",
       "      <th>24</th>\n",
       "      <td>Iris-versicolor</td>\n",
       "      <td>1.331985e-09</td>\n",
       "      <td>0.834898</td>\n",
       "      <td>1.651023e-01</td>\n",
       "    </tr>\n",
       "    <tr>\n",
       "      <th>25</th>\n",
       "      <td>Iris-virginica</td>\n",
       "      <td>4.566824e-10</td>\n",
       "      <td>0.015729</td>\n",
       "      <td>9.842708e-01</td>\n",
       "    </tr>\n",
       "    <tr>\n",
       "      <th>26</th>\n",
       "      <td>Iris-versicolor</td>\n",
       "      <td>2.897608e-07</td>\n",
       "      <td>0.932218</td>\n",
       "      <td>6.778139e-02</td>\n",
       "    </tr>\n",
       "    <tr>\n",
       "      <th>27</th>\n",
       "      <td>Iris-versicolor</td>\n",
       "      <td>8.059763e-08</td>\n",
       "      <td>0.965642</td>\n",
       "      <td>3.435797e-02</td>\n",
       "    </tr>\n",
       "    <tr>\n",
       "      <th>28</th>\n",
       "      <td>Iris-virginica</td>\n",
       "      <td>8.758888e-09</td>\n",
       "      <td>0.399882</td>\n",
       "      <td>6.001181e-01</td>\n",
       "    </tr>\n",
       "    <tr>\n",
       "      <th>29</th>\n",
       "      <td>Iris-versicolor</td>\n",
       "      <td>9.019644e-07</td>\n",
       "      <td>0.709616</td>\n",
       "      <td>2.903834e-01</td>\n",
       "    </tr>\n",
       "    <tr>\n",
       "      <th>30</th>\n",
       "      <td>Iris-virginica</td>\n",
       "      <td>1.237739e-11</td>\n",
       "      <td>0.178850</td>\n",
       "      <td>8.211503e-01</td>\n",
       "    </tr>\n",
       "    <tr>\n",
       "      <th>31</th>\n",
       "      <td>Iris-versicolor</td>\n",
       "      <td>2.175776e-08</td>\n",
       "      <td>0.971925</td>\n",
       "      <td>2.807506e-02</td>\n",
       "    </tr>\n",
       "    <tr>\n",
       "      <th>32</th>\n",
       "      <td>Iris-virginica</td>\n",
       "      <td>6.025025e-09</td>\n",
       "      <td>0.253141</td>\n",
       "      <td>7.468588e-01</td>\n",
       "    </tr>\n",
       "    <tr>\n",
       "      <th>33</th>\n",
       "      <td>Iris-virginica</td>\n",
       "      <td>5.393152e-08</td>\n",
       "      <td>0.051595</td>\n",
       "      <td>9.484046e-01</td>\n",
       "    </tr>\n",
       "  </tbody>\n",
       "</table>\n",
       "</div>"
      ],
      "text/plain": [
       "            predict   Iris-setosa  Iris-versicolor  Iris-virginica\n",
       "0       Iris-setosa  9.602624e-01         0.039738    6.650258e-17\n",
       "1       Iris-setosa  9.945979e-01         0.005402    1.361889e-17\n",
       "2       Iris-setosa  9.902413e-01         0.009759    5.091820e-17\n",
       "3       Iris-setosa  9.959036e-01         0.004096    3.620642e-17\n",
       "4       Iris-setosa  9.947453e-01         0.005255    3.896815e-18\n",
       "5       Iris-setosa  9.977429e-01         0.002257    7.486175e-18\n",
       "6       Iris-setosa  9.586105e-01         0.041389    3.894072e-17\n",
       "7       Iris-setosa  9.401845e-01         0.059816    2.151848e-15\n",
       "8       Iris-setosa  9.481258e-01         0.051874    1.923371e-16\n",
       "9       Iris-setosa  9.932156e-01         0.006784    3.943729e-17\n",
       "10      Iris-setosa  9.865046e-01         0.013495    1.347753e-15\n",
       "11      Iris-setosa  9.966037e-01         0.003396    1.099557e-16\n",
       "12      Iris-setosa  9.954089e-01         0.004591    2.010782e-17\n",
       "13  Iris-versicolor  1.743851e-05         0.999983    2.023677e-08\n",
       "14  Iris-versicolor  6.241194e-06         0.996537    3.457070e-03\n",
       "15  Iris-versicolor  5.422481e-08         0.999995    5.099520e-06\n",
       "16  Iris-versicolor  2.426413e-06         0.999975    2.220275e-05\n",
       "17  Iris-versicolor  1.003560e-05         0.999990    6.613290e-08\n",
       "18  Iris-versicolor  4.798333e-05         0.999888    6.418248e-05\n",
       "19  Iris-versicolor  4.243089e-05         0.999921    3.703556e-05\n",
       "20  Iris-versicolor  7.629477e-06         0.999991    1.170415e-06\n",
       "21  Iris-versicolor  9.714303e-06         0.999989    1.336911e-06\n",
       "22  Iris-versicolor  1.474734e-05         0.999985    6.092335e-07\n",
       "23   Iris-virginica  5.772449e-11         0.000459    9.995408e-01\n",
       "24  Iris-versicolor  1.331985e-09         0.834898    1.651023e-01\n",
       "25   Iris-virginica  4.566824e-10         0.015729    9.842708e-01\n",
       "26  Iris-versicolor  2.897608e-07         0.932218    6.778139e-02\n",
       "27  Iris-versicolor  8.059763e-08         0.965642    3.435797e-02\n",
       "28   Iris-virginica  8.758888e-09         0.399882    6.001181e-01\n",
       "29  Iris-versicolor  9.019644e-07         0.709616    2.903834e-01\n",
       "30   Iris-virginica  1.237739e-11         0.178850    8.211503e-01\n",
       "31  Iris-versicolor  2.175776e-08         0.971925    2.807506e-02\n",
       "32   Iris-virginica  6.025025e-09         0.253141    7.468588e-01\n",
       "33   Iris-virginica  5.393152e-08         0.051595    9.484046e-01"
      ]
     },
     "execution_count": 9,
     "metadata": {},
     "output_type": "execute_result"
    }
   ],
   "source": [
    "p.as_data_frame()"
   ]
  },
  {
   "cell_type": "code",
   "execution_count": 12,
   "metadata": {},
   "outputs": [
    {
     "data": {
      "text/plain": [
       "[0.8529411764705882]"
      ]
     },
     "execution_count": 12,
     "metadata": {},
     "output_type": "execute_result"
    }
   ],
   "source": [
    "(p['predict'] == test['species']).mean()"
   ]
  },
  {
   "cell_type": "markdown",
   "metadata": {},
   "source": [
    "## Performance Versus Predictions"
   ]
  },
  {
   "cell_type": "code",
   "execution_count": 13,
   "metadata": {},
   "outputs": [
    {
     "name": "stdout",
     "output_type": "stream",
     "text": [
      "\n",
      "ModelMetricsMultinomial: deeplearning\n",
      "** Reported on test data. **\n",
      "\n",
      "MSE: 0.12398925343261379\n",
      "RMSE: 0.3521210778022437\n",
      "LogLoss: 0.41172427117090676\n",
      "Mean Per-Class Error: 0.15151515151515152\n",
      "Confusion Matrix: Row labels: Actual class; Column labels: Predicted class\n",
      "\n"
     ]
    },
    {
     "data": {
      "text/html": [
       "<div style=\"overflow:auto\"><table style=\"width:50%\"><tr><td><b>Iris-setosa</b></td>\n",
       "<td><b>Iris-versicolor</b></td>\n",
       "<td><b>Iris-virginica</b></td>\n",
       "<td><b>Error</b></td>\n",
       "<td><b>Rate</b></td></tr>\n",
       "<tr><td>13.0</td>\n",
       "<td>0.0</td>\n",
       "<td>0.0</td>\n",
       "<td>0.0</td>\n",
       "<td>0 / 13</td></tr>\n",
       "<tr><td>0.0</td>\n",
       "<td>10.0</td>\n",
       "<td>0.0</td>\n",
       "<td>0.0</td>\n",
       "<td>0 / 10</td></tr>\n",
       "<tr><td>0.0</td>\n",
       "<td>5.0</td>\n",
       "<td>6.0</td>\n",
       "<td>0.4545455</td>\n",
       "<td>5 / 11</td></tr>\n",
       "<tr><td>13.0</td>\n",
       "<td>15.0</td>\n",
       "<td>6.0</td>\n",
       "<td>0.1470588</td>\n",
       "<td>5 / 34</td></tr></table></div>"
      ],
      "text/plain": [
       "Iris-setosa    Iris-versicolor    Iris-virginica    Error     Rate\n",
       "-------------  -----------------  ----------------  --------  ------\n",
       "13             0                  0                 0         0 / 13\n",
       "0              10                 0                 0         0 / 10\n",
       "0              5                  6                 0.454545  5 / 11\n",
       "13             15                 6                 0.147059  5 / 34"
      ]
     },
     "metadata": {},
     "output_type": "display_data"
    },
    {
     "name": "stdout",
     "output_type": "stream",
     "text": [
      "Top-3 Hit Ratios: \n"
     ]
    },
    {
     "data": {
      "text/html": [
       "<div style=\"overflow:auto\"><table style=\"width:50%\"><tr><td><b>k</b></td>\n",
       "<td><b>hit_ratio</b></td></tr>\n",
       "<tr><td>1</td>\n",
       "<td>0.8529412</td></tr>\n",
       "<tr><td>2</td>\n",
       "<td>1.0</td></tr>\n",
       "<tr><td>3</td>\n",
       "<td>1.0</td></tr></table></div>"
      ],
      "text/plain": [
       "k    hit_ratio\n",
       "---  -----------\n",
       "1    0.852941\n",
       "2    1\n",
       "3    1"
      ]
     },
     "metadata": {},
     "output_type": "display_data"
    },
    {
     "data": {
      "text/plain": []
     },
     "execution_count": 13,
     "metadata": {},
     "output_type": "execute_result"
    }
   ],
   "source": [
    "m.model_performance(test)"
   ]
  },
  {
   "cell_type": "markdown",
   "metadata": {},
   "source": [
    "### DATA IMPORT EXAMPLES"
   ]
  },
  {
   "cell_type": "code",
   "execution_count": 16,
   "metadata": {},
   "outputs": [
    {
     "name": "stdout",
     "output_type": "stream",
     "text": [
      "Parse progress: |█████████████████████████████████████████████████████████| 100%\n"
     ]
    }
   ],
   "source": [
    "datasets = \"https://raw.githubusercontent.com/DarrenCook/h2o/bk/datasets/\"\n",
    "data = h2o.import_file(datasets + \"iris.csv\", col_names=[\"Sepal length\", \"Sepal width\",\"Petal length\", \"Petal width\", \"Species\"],\n",
    "                       col_types=[\"numeric\", \"numeric\", \"numeric\", \"numeric\", \"enum\"], destination_frame='iris')"
   ]
  },
  {
   "cell_type": "code",
   "execution_count": 17,
   "metadata": {},
   "outputs": [
    {
     "data": {
      "text/html": [
       "<table>\n",
       "<thead>\n",
       "<tr><th style=\"text-align: right;\">  Sepal length</th><th style=\"text-align: right;\">  Sepal width</th><th style=\"text-align: right;\">  Petal length</th><th style=\"text-align: right;\">  Petal width</th><th>Species    </th></tr>\n",
       "</thead>\n",
       "<tbody>\n",
       "<tr><td style=\"text-align: right;\">           5.1</td><td style=\"text-align: right;\">          3.5</td><td style=\"text-align: right;\">           1.4</td><td style=\"text-align: right;\">          0.2</td><td>Iris-setosa</td></tr>\n",
       "<tr><td style=\"text-align: right;\">           4.9</td><td style=\"text-align: right;\">          3  </td><td style=\"text-align: right;\">           1.4</td><td style=\"text-align: right;\">          0.2</td><td>Iris-setosa</td></tr>\n",
       "<tr><td style=\"text-align: right;\">           4.7</td><td style=\"text-align: right;\">          3.2</td><td style=\"text-align: right;\">           1.3</td><td style=\"text-align: right;\">          0.2</td><td>Iris-setosa</td></tr>\n",
       "<tr><td style=\"text-align: right;\">           4.6</td><td style=\"text-align: right;\">          3.1</td><td style=\"text-align: right;\">           1.5</td><td style=\"text-align: right;\">          0.2</td><td>Iris-setosa</td></tr>\n",
       "<tr><td style=\"text-align: right;\">           5  </td><td style=\"text-align: right;\">          3.6</td><td style=\"text-align: right;\">           1.4</td><td style=\"text-align: right;\">          0.2</td><td>Iris-setosa</td></tr>\n",
       "<tr><td style=\"text-align: right;\">           5.4</td><td style=\"text-align: right;\">          3.9</td><td style=\"text-align: right;\">           1.7</td><td style=\"text-align: right;\">          0.4</td><td>Iris-setosa</td></tr>\n",
       "<tr><td style=\"text-align: right;\">           4.6</td><td style=\"text-align: right;\">          3.4</td><td style=\"text-align: right;\">           1.4</td><td style=\"text-align: right;\">          0.3</td><td>Iris-setosa</td></tr>\n",
       "<tr><td style=\"text-align: right;\">           5  </td><td style=\"text-align: right;\">          3.4</td><td style=\"text-align: right;\">           1.5</td><td style=\"text-align: right;\">          0.2</td><td>Iris-setosa</td></tr>\n",
       "<tr><td style=\"text-align: right;\">           4.4</td><td style=\"text-align: right;\">          2.9</td><td style=\"text-align: right;\">           1.4</td><td style=\"text-align: right;\">          0.2</td><td>Iris-setosa</td></tr>\n",
       "<tr><td style=\"text-align: right;\">           4.9</td><td style=\"text-align: right;\">          3.1</td><td style=\"text-align: right;\">           1.5</td><td style=\"text-align: right;\">          0.1</td><td>Iris-setosa</td></tr>\n",
       "</tbody>\n",
       "</table>"
      ]
     },
     "metadata": {},
     "output_type": "display_data"
    },
    {
     "data": {
      "text/plain": []
     },
     "execution_count": 17,
     "metadata": {},
     "output_type": "execute_result"
    }
   ],
   "source": [
    "data"
   ]
  },
  {
   "cell_type": "markdown",
   "metadata": {},
   "source": [
    "### ASSIGN DATAFRAME NAME\n",
    "\n",
    "In h2o every operation returns a new dtaframe, with a random name in h2o cluster. For avoiding name misleading the suggestion is change the name every time is possible."
   ]
  },
  {
   "cell_type": "code",
   "execution_count": 19,
   "metadata": {},
   "outputs": [
    {
     "name": "stdout",
     "output_type": "stream",
     "text": [
      "Parse progress: |█████████████████████████████████████████████████████████| 100%\n"
     ]
    }
   ],
   "source": [
    "datasets = \"https://raw.githubusercontent.com/DarrenCook/h2o/bk/datasets/\"\n",
    "data = h2o.import_file(datasets + \"iris_wheader.csv\")\n",
    "data.frame_id #iris_wheader.hex\n",
    "data = data[:,1:] #Drop column 0. Keep column 1 onwards.\n",
    "data.frame_id #py_2_sid_88fe\n",
    "data = h2o.assign(data, \"iris\")\n",
    "data.frame_id #iris\n",
    "h2o.ls() #iris and iris_wheader.hex, no py_2_sid_88fe\n",
    "h2o.remove(\"iris_wheader.hex\")\n",
    "h2o.ls() #Just lists iris"
   ]
  },
  {
   "cell_type": "code",
   "execution_count": 47,
   "metadata": {},
   "outputs": [
    {
     "data": {
      "text/html": [
       "<div>\n",
       "<style scoped>\n",
       "    .dataframe tbody tr th:only-of-type {\n",
       "        vertical-align: middle;\n",
       "    }\n",
       "\n",
       "    .dataframe tbody tr th {\n",
       "        vertical-align: top;\n",
       "    }\n",
       "\n",
       "    .dataframe thead th {\n",
       "        text-align: right;\n",
       "    }\n",
       "</style>\n",
       "<table border=\"1\" class=\"dataframe\">\n",
       "  <thead>\n",
       "    <tr style=\"text-align: right;\">\n",
       "      <th></th>\n",
       "      <th>key</th>\n",
       "    </tr>\n",
       "  </thead>\n",
       "  <tbody>\n",
       "    <tr>\n",
       "      <th>0</th>\n",
       "      <td>DeepLearning_model_python_1536052663236_1</td>\n",
       "    </tr>\n",
       "    <tr>\n",
       "      <th>1</th>\n",
       "      <td>_bec1058adc4cab153c359e1e179c4603</td>\n",
       "    </tr>\n",
       "    <tr>\n",
       "      <th>2</th>\n",
       "      <td>iris</td>\n",
       "    </tr>\n",
       "    <tr>\n",
       "      <th>3</th>\n",
       "      <td>iris.hex</td>\n",
       "    </tr>\n",
       "    <tr>\n",
       "      <th>4</th>\n",
       "      <td>iris_data.hex</td>\n",
       "    </tr>\n",
       "    <tr>\n",
       "      <th>5</th>\n",
       "      <td>modelmetrics_DeepLearning_model_python_1536052...</td>\n",
       "    </tr>\n",
       "    <tr>\n",
       "      <th>6</th>\n",
       "      <td>modelmetrics_DeepLearning_model_python_1536052...</td>\n",
       "    </tr>\n",
       "    <tr>\n",
       "      <th>7</th>\n",
       "      <td>part_00000_ef30b879_acac_4a28_a871_7a613d5e525...</td>\n",
       "    </tr>\n",
       "    <tr>\n",
       "      <th>8</th>\n",
       "      <td>predictions_9af5_DeepLearning_model_python_153...</td>\n",
       "    </tr>\n",
       "    <tr>\n",
       "      <th>9</th>\n",
       "      <td>py_13_sid_941c</td>\n",
       "    </tr>\n",
       "    <tr>\n",
       "      <th>10</th>\n",
       "      <td>py_15_sid_941c</td>\n",
       "    </tr>\n",
       "    <tr>\n",
       "      <th>11</th>\n",
       "      <td>py_16_sid_941c</td>\n",
       "    </tr>\n",
       "    <tr>\n",
       "      <th>12</th>\n",
       "      <td>py_1_sid_941c</td>\n",
       "    </tr>\n",
       "    <tr>\n",
       "      <th>13</th>\n",
       "      <td>py_22_sid_941c</td>\n",
       "    </tr>\n",
       "    <tr>\n",
       "      <th>14</th>\n",
       "      <td>py_23_sid_941c</td>\n",
       "    </tr>\n",
       "    <tr>\n",
       "      <th>15</th>\n",
       "      <td>py_2_sid_941c_splitter</td>\n",
       "    </tr>\n",
       "    <tr>\n",
       "      <th>16</th>\n",
       "      <td>py_30_sid_941c</td>\n",
       "    </tr>\n",
       "    <tr>\n",
       "      <th>17</th>\n",
       "      <td>py_31_sid_941c</td>\n",
       "    </tr>\n",
       "    <tr>\n",
       "      <th>18</th>\n",
       "      <td>py_32_sid_941c</td>\n",
       "    </tr>\n",
       "    <tr>\n",
       "      <th>19</th>\n",
       "      <td>py_35_sid_941c</td>\n",
       "    </tr>\n",
       "    <tr>\n",
       "      <th>20</th>\n",
       "      <td>py_39_sid_941c</td>\n",
       "    </tr>\n",
       "    <tr>\n",
       "      <th>21</th>\n",
       "      <td>py_4_sid_941c</td>\n",
       "    </tr>\n",
       "    <tr>\n",
       "      <th>22</th>\n",
       "      <td>py_5_sid_941c</td>\n",
       "    </tr>\n",
       "    <tr>\n",
       "      <th>23</th>\n",
       "      <td>py_7_sid_941c</td>\n",
       "    </tr>\n",
       "  </tbody>\n",
       "</table>\n",
       "</div>"
      ],
      "text/plain": [
       "                                                  key\n",
       "0           DeepLearning_model_python_1536052663236_1\n",
       "1                   _bec1058adc4cab153c359e1e179c4603\n",
       "2                                                iris\n",
       "3                                            iris.hex\n",
       "4                                       iris_data.hex\n",
       "5   modelmetrics_DeepLearning_model_python_1536052...\n",
       "6   modelmetrics_DeepLearning_model_python_1536052...\n",
       "7   part_00000_ef30b879_acac_4a28_a871_7a613d5e525...\n",
       "8   predictions_9af5_DeepLearning_model_python_153...\n",
       "9                                      py_13_sid_941c\n",
       "10                                     py_15_sid_941c\n",
       "11                                     py_16_sid_941c\n",
       "12                                      py_1_sid_941c\n",
       "13                                     py_22_sid_941c\n",
       "14                                     py_23_sid_941c\n",
       "15                             py_2_sid_941c_splitter\n",
       "16                                     py_30_sid_941c\n",
       "17                                     py_31_sid_941c\n",
       "18                                     py_32_sid_941c\n",
       "19                                     py_35_sid_941c\n",
       "20                                     py_39_sid_941c\n",
       "21                                      py_4_sid_941c\n",
       "22                                      py_5_sid_941c\n",
       "23                                      py_7_sid_941c"
      ]
     },
     "execution_count": 47,
     "metadata": {},
     "output_type": "execute_result"
    }
   ],
   "source": [
    "h2o.ls()"
   ]
  },
  {
   "cell_type": "code",
   "execution_count": 48,
   "metadata": {},
   "outputs": [
    {
     "name": "stdout",
     "output_type": "stream",
     "text": [
      "Rows:150\n",
      "Cols:7\n",
      "\n",
      "\n"
     ]
    },
    {
     "data": {
      "text/html": [
       "<table>\n",
       "<thead>\n",
       "<tr><th>       </th><th>sepal_wid          </th><th>petal_len         </th><th>petal_wid         </th><th>class      </th><th>ratio              </th><th>islong           </th><th>species  </th></tr>\n",
       "</thead>\n",
       "<tbody>\n",
       "<tr><td>type   </td><td>real               </td><td>real              </td><td>real              </td><td>enum       </td><td>real               </td><td>int              </td><td>string   </td></tr>\n",
       "<tr><td>mins   </td><td>2.0                </td><td>1.2               </td><td>0.1               </td><td>           </td><td>0.02439024390243903</td><td>0.0              </td><td>NaN      </td></tr>\n",
       "<tr><td>mean   </td><td>3.053999999999999  </td><td>4.5104            </td><td>1.1986666666666665</td><td>           </td><td>0.41155312214749035</td><td>0.62             </td><td>NaN      </td></tr>\n",
       "<tr><td>maxs   </td><td>4.4                </td><td>8.28              </td><td>2.5               </td><td>           </td><td>0.8846153846153845 </td><td>1.0              </td><td>NaN      </td></tr>\n",
       "<tr><td>sigma  </td><td>0.43359431136217375</td><td>2.117304503942715 </td><td>0.7631607417008414</td><td>           </td><td>0.2623037386434534 </td><td>0.487012533774739</td><td>NaN      </td></tr>\n",
       "<tr><td>zeros  </td><td>0                  </td><td>0                 </td><td>0                 </td><td>           </td><td>0                  </td><td>57               </td><td>0        </td></tr>\n",
       "<tr><td>missing</td><td>0                  </td><td>0                 </td><td>0                 </td><td>0          </td><td>0                  </td><td>0                </td><td>0        </td></tr>\n",
       "<tr><td>0      </td><td>3.5                </td><td>1.68              </td><td>0.2               </td><td>Iris-setosa</td><td>0.05714285714285715</td><td>0.0              </td><td>setosa   </td></tr>\n",
       "<tr><td>1      </td><td>3.0                </td><td>1.68              </td><td>0.2               </td><td>Iris-setosa</td><td>0.06666666666666667</td><td>0.0              </td><td>setosa   </td></tr>\n",
       "<tr><td>2      </td><td>3.2                </td><td>1.56              </td><td>0.2               </td><td>Iris-setosa</td><td>0.0625             </td><td>0.0              </td><td>setosa   </td></tr>\n",
       "<tr><td>3      </td><td>3.1                </td><td>1.7999999999999998</td><td>0.2               </td><td>Iris-setosa</td><td>0.06451612903225806</td><td>0.0              </td><td>setosa   </td></tr>\n",
       "<tr><td>4      </td><td>3.6                </td><td>1.68              </td><td>0.2               </td><td>Iris-setosa</td><td>0.05555555555555556</td><td>0.0              </td><td>setosa   </td></tr>\n",
       "<tr><td>5      </td><td>3.9                </td><td>2.04              </td><td>0.4               </td><td>Iris-setosa</td><td>0.10256410256410257</td><td>0.0              </td><td>setosa   </td></tr>\n",
       "<tr><td>6      </td><td>3.4                </td><td>1.68              </td><td>0.3               </td><td>Iris-setosa</td><td>0.08823529411764706</td><td>0.0              </td><td>setosa   </td></tr>\n",
       "<tr><td>7      </td><td>3.4                </td><td>1.7999999999999998</td><td>0.2               </td><td>Iris-setosa</td><td>0.05882352941176471</td><td>0.0              </td><td>setosa   </td></tr>\n",
       "<tr><td>8      </td><td>2.9                </td><td>1.68              </td><td>0.2               </td><td>Iris-setosa</td><td>0.06896551724137931</td><td>0.0              </td><td>setosa   </td></tr>\n",
       "<tr><td>9      </td><td>3.1                </td><td>1.7999999999999998</td><td>0.1               </td><td>Iris-setosa</td><td>0.03225806451612903</td><td>0.0              </td><td>setosa   </td></tr>\n",
       "</tbody>\n",
       "</table>"
      ]
     },
     "metadata": {},
     "output_type": "display_data"
    }
   ],
   "source": [
    "data.describe()"
   ]
  },
  {
   "cell_type": "code",
   "execution_count": 22,
   "metadata": {},
   "outputs": [
    {
     "data": {
      "text/html": [
       "<table>\n",
       "<thead>\n",
       "<tr><th style=\"text-align: right;\">  Probs</th><th style=\"text-align: right;\">  sepal_widQuantiles</th><th style=\"text-align: right;\">  petal_lenQuantiles</th><th style=\"text-align: right;\">  petal_widQuantiles</th><th style=\"text-align: right;\">  classQuantiles</th></tr>\n",
       "</thead>\n",
       "<tbody>\n",
       "<tr><td style=\"text-align: right;\">  0.01 </td><td style=\"text-align: right;\">               2.2  </td><td style=\"text-align: right;\">              1.149 </td><td style=\"text-align: right;\">              0.1   </td><td style=\"text-align: right;\">             nan</td></tr>\n",
       "<tr><td style=\"text-align: right;\">  0.1  </td><td style=\"text-align: right;\">               2.5  </td><td style=\"text-align: right;\">              1.4   </td><td style=\"text-align: right;\">              0.2   </td><td style=\"text-align: right;\">             nan</td></tr>\n",
       "<tr><td style=\"text-align: right;\">  0.25 </td><td style=\"text-align: right;\">               2.8  </td><td style=\"text-align: right;\">              1.6   </td><td style=\"text-align: right;\">              0.3   </td><td style=\"text-align: right;\">             nan</td></tr>\n",
       "<tr><td style=\"text-align: right;\">  0.333</td><td style=\"text-align: right;\">               2.9  </td><td style=\"text-align: right;\">              2.5787</td><td style=\"text-align: right;\">              0.8468</td><td style=\"text-align: right;\">             nan</td></tr>\n",
       "<tr><td style=\"text-align: right;\">  0.5  </td><td style=\"text-align: right;\">               3    </td><td style=\"text-align: right;\">              4.35  </td><td style=\"text-align: right;\">              1.3   </td><td style=\"text-align: right;\">             nan</td></tr>\n",
       "<tr><td style=\"text-align: right;\">  0.667</td><td style=\"text-align: right;\">               3.2  </td><td style=\"text-align: right;\">              4.9   </td><td style=\"text-align: right;\">              1.6   </td><td style=\"text-align: right;\">             nan</td></tr>\n",
       "<tr><td style=\"text-align: right;\">  0.75 </td><td style=\"text-align: right;\">               3.3  </td><td style=\"text-align: right;\">              5.1   </td><td style=\"text-align: right;\">              1.8   </td><td style=\"text-align: right;\">             nan</td></tr>\n",
       "<tr><td style=\"text-align: right;\">  0.9  </td><td style=\"text-align: right;\">               3.61 </td><td style=\"text-align: right;\">              5.8   </td><td style=\"text-align: right;\">              2.2   </td><td style=\"text-align: right;\">             nan</td></tr>\n",
       "<tr><td style=\"text-align: right;\">  0.99 </td><td style=\"text-align: right;\">               4.151</td><td style=\"text-align: right;\">              6.7   </td><td style=\"text-align: right;\">              2.5   </td><td style=\"text-align: right;\">             nan</td></tr>\n",
       "</tbody>\n",
       "</table>"
      ]
     },
     "metadata": {},
     "output_type": "display_data"
    },
    {
     "data": {
      "text/plain": []
     },
     "execution_count": 22,
     "metadata": {},
     "output_type": "execute_result"
    }
   ],
   "source": [
    "data.quantile()"
   ]
  },
  {
   "cell_type": "code",
   "execution_count": 23,
   "metadata": {},
   "outputs": [
    {
     "data": {
      "text/plain": [
       "[[], [], [], ['Iris-setosa', 'Iris-versicolor', 'Iris-virginica']]"
      ]
     },
     "execution_count": 23,
     "metadata": {},
     "output_type": "execute_result"
    }
   ],
   "source": [
    "data.levels()"
   ]
  },
  {
   "cell_type": "markdown",
   "metadata": {},
   "source": [
    "### OPERATION ON COLUMNS"
   ]
  },
  {
   "cell_type": "code",
   "execution_count": 26,
   "metadata": {},
   "outputs": [
    {
     "data": {
      "text/plain": [
       "0.9557785904293422"
      ]
     },
     "execution_count": 26,
     "metadata": {},
     "output_type": "execute_result"
    }
   ],
   "source": [
    "data['petal_len'] = data['petal_len'] * 1.2\n",
    "\n",
    "data[\"ratio\"] = data[\"petal_wid\"] / data[\"sepal_wid\"]\n",
    "data[\"petal_len\"].sd() #2.117\n",
    "data[\"ratio\"].cor(data[\"petal_len\"]) #0.956"
   ]
  },
  {
   "cell_type": "markdown",
   "metadata": {},
   "source": [
    "The next example creates a new numeric column that is 1 when the petal length is\n",
    "greater than average, and 0 everywhere else. The syntax is something that evaluates to\n",
    "a boolean, followed by ifelse(if_true, if_false) :"
   ]
  },
  {
   "cell_type": "code",
   "execution_count": 37,
   "metadata": {},
   "outputs": [],
   "source": [
    "data[\"islong\"] = (data[\"petal_len\"] > data[\"petal_len\"].mean()[0]).ifelse(1,0)"
   ]
  },
  {
   "cell_type": "code",
   "execution_count": 32,
   "metadata": {},
   "outputs": [],
   "source": [
    "data = h2o.assign(data, \"iris\")"
   ]
  },
  {
   "cell_type": "code",
   "execution_count": 34,
   "metadata": {},
   "outputs": [],
   "source": [
    "data['species'] = data['class'].ascharacter().gsub(\"Iris-\", \"\")"
   ]
  },
  {
   "cell_type": "code",
   "execution_count": 38,
   "metadata": {},
   "outputs": [
    {
     "data": {
      "text/html": [
       "<table>\n",
       "<thead>\n",
       "<tr><th style=\"text-align: right;\">  sepal_wid</th><th style=\"text-align: right;\">  petal_len</th><th style=\"text-align: right;\">  petal_wid</th><th>class      </th><th style=\"text-align: right;\">    ratio</th><th style=\"text-align: right;\">  islong</th><th>species  </th></tr>\n",
       "</thead>\n",
       "<tbody>\n",
       "<tr><td style=\"text-align: right;\">        3.5</td><td style=\"text-align: right;\">       1.68</td><td style=\"text-align: right;\">        0.2</td><td>Iris-setosa</td><td style=\"text-align: right;\">0.0571429</td><td style=\"text-align: right;\">       0</td><td>setosa   </td></tr>\n",
       "<tr><td style=\"text-align: right;\">        3  </td><td style=\"text-align: right;\">       1.68</td><td style=\"text-align: right;\">        0.2</td><td>Iris-setosa</td><td style=\"text-align: right;\">0.0666667</td><td style=\"text-align: right;\">       0</td><td>setosa   </td></tr>\n",
       "<tr><td style=\"text-align: right;\">        3.2</td><td style=\"text-align: right;\">       1.56</td><td style=\"text-align: right;\">        0.2</td><td>Iris-setosa</td><td style=\"text-align: right;\">0.0625   </td><td style=\"text-align: right;\">       0</td><td>setosa   </td></tr>\n",
       "<tr><td style=\"text-align: right;\">        3.1</td><td style=\"text-align: right;\">       1.8 </td><td style=\"text-align: right;\">        0.2</td><td>Iris-setosa</td><td style=\"text-align: right;\">0.0645161</td><td style=\"text-align: right;\">       0</td><td>setosa   </td></tr>\n",
       "<tr><td style=\"text-align: right;\">        3.6</td><td style=\"text-align: right;\">       1.68</td><td style=\"text-align: right;\">        0.2</td><td>Iris-setosa</td><td style=\"text-align: right;\">0.0555556</td><td style=\"text-align: right;\">       0</td><td>setosa   </td></tr>\n",
       "<tr><td style=\"text-align: right;\">        3.9</td><td style=\"text-align: right;\">       2.04</td><td style=\"text-align: right;\">        0.4</td><td>Iris-setosa</td><td style=\"text-align: right;\">0.102564 </td><td style=\"text-align: right;\">       0</td><td>setosa   </td></tr>\n",
       "<tr><td style=\"text-align: right;\">        3.4</td><td style=\"text-align: right;\">       1.68</td><td style=\"text-align: right;\">        0.3</td><td>Iris-setosa</td><td style=\"text-align: right;\">0.0882353</td><td style=\"text-align: right;\">       0</td><td>setosa   </td></tr>\n",
       "<tr><td style=\"text-align: right;\">        3.4</td><td style=\"text-align: right;\">       1.8 </td><td style=\"text-align: right;\">        0.2</td><td>Iris-setosa</td><td style=\"text-align: right;\">0.0588235</td><td style=\"text-align: right;\">       0</td><td>setosa   </td></tr>\n",
       "<tr><td style=\"text-align: right;\">        2.9</td><td style=\"text-align: right;\">       1.68</td><td style=\"text-align: right;\">        0.2</td><td>Iris-setosa</td><td style=\"text-align: right;\">0.0689655</td><td style=\"text-align: right;\">       0</td><td>setosa   </td></tr>\n",
       "<tr><td style=\"text-align: right;\">        3.1</td><td style=\"text-align: right;\">       1.8 </td><td style=\"text-align: right;\">        0.1</td><td>Iris-setosa</td><td style=\"text-align: right;\">0.0322581</td><td style=\"text-align: right;\">       0</td><td>setosa   </td></tr>\n",
       "</tbody>\n",
       "</table>"
      ]
     },
     "metadata": {},
     "output_type": "display_data"
    },
    {
     "data": {
      "text/plain": []
     },
     "execution_count": 38,
     "metadata": {},
     "output_type": "execute_result"
    }
   ],
   "source": [
    "data"
   ]
  },
  {
   "cell_type": "markdown",
   "metadata": {},
   "source": [
    "### Aggregation"
   ]
  },
  {
   "cell_type": "code",
   "execution_count": 55,
   "metadata": {},
   "outputs": [
    {
     "data": {
      "text/html": [
       "<table>\n",
       "<thead>\n",
       "<tr><th>class          </th><th style=\"text-align: right;\">  nrow</th><th style=\"text-align: right;\">  mean_petal_len</th><th style=\"text-align: right;\">  sum_islong</th></tr>\n",
       "</thead>\n",
       "<tbody>\n",
       "<tr><td>Iris-setosa    </td><td style=\"text-align: right;\">    50</td><td style=\"text-align: right;\">          1.7568</td><td style=\"text-align: right;\">           0</td></tr>\n",
       "<tr><td>Iris-versicolor</td><td style=\"text-align: right;\">    50</td><td style=\"text-align: right;\">          5.112 </td><td style=\"text-align: right;\">          43</td></tr>\n",
       "<tr><td>Iris-virginica </td><td style=\"text-align: right;\">    50</td><td style=\"text-align: right;\">          6.6624</td><td style=\"text-align: right;\">          50</td></tr>\n",
       "</tbody>\n",
       "</table>"
      ]
     },
     "metadata": {},
     "output_type": "display_data"
    },
    {
     "data": {
      "text/plain": []
     },
     "execution_count": 55,
     "metadata": {},
     "output_type": "execute_result"
    }
   ],
   "source": [
    "data.group_by(\"class\").count().mean(\"petal_len\").sum(\"islong\").get_frame()"
   ]
  },
  {
   "cell_type": "code",
   "execution_count": 64,
   "metadata": {},
   "outputs": [
    {
     "name": "stderr",
     "output_type": "stream",
     "text": [
      "/home/francesco/anaconda3/lib/python3.6/site-packages/matplotlib/__init__.py:1855: MatplotlibDeprecationWarning: The *left* kwarg to `bar` is deprecated use *x* instead. Support for *left* will be removed in Matplotlib 3.0\n",
      "  return func(ax, *args, **kwargs)\n"
     ]
    },
    {
     "data": {
      "image/png": "[encoded data removed]",
      "text/plain": [
       "<Figure size 432x288 with 1 Axes>"
      ]
     },
     "metadata": {},
     "output_type": "display_data"
    }
   ],
   "source": [
    "data[\"petal_len\"].hist()"
   ]
  },
  {
   "cell_type": "markdown",
   "metadata": {},
   "source": [
    "### Indexing"
   ]
  },
  {
   "cell_type": "code",
   "execution_count": 57,
   "metadata": {},
   "outputs": [
    {
     "name": "stdout",
     "output_type": "stream",
     "text": [
      "<class 'pandas.core.frame.DataFrame'>\n",
      "RangeIndex: 150 entries, 0 to 149\n",
      "Data columns (total 7 columns):\n",
      "sepal_wid    150 non-null float64\n",
      "petal_len    150 non-null float64\n",
      "petal_wid    150 non-null float64\n",
      "class        150 non-null object\n",
      "ratio        150 non-null float64\n",
      "islong       150 non-null int64\n",
      "species      150 non-null object\n",
      "dtypes: float64(4), int64(1), object(2)\n",
      "memory usage: 8.3+ KB\n"
     ]
    },
    {
     "data": {
      "text/html": [
       "<div>\n",
       "<style scoped>\n",
       "    .dataframe tbody tr th:only-of-type {\n",
       "        vertical-align: middle;\n",
       "    }\n",
       "\n",
       "    .dataframe tbody tr th {\n",
       "        vertical-align: top;\n",
       "    }\n",
       "\n",
       "    .dataframe thead th {\n",
       "        text-align: right;\n",
       "    }\n",
       "</style>\n",
       "<table border=\"1\" class=\"dataframe\">\n",
       "  <thead>\n",
       "    <tr style=\"text-align: right;\">\n",
       "      <th></th>\n",
       "      <th>sepal_wid</th>\n",
       "      <th>petal_len</th>\n",
       "      <th>petal_wid</th>\n",
       "      <th>ratio</th>\n",
       "      <th>islong</th>\n",
       "    </tr>\n",
       "  </thead>\n",
       "  <tbody>\n",
       "    <tr>\n",
       "      <th>sepal_wid</th>\n",
       "      <td>1.00</td>\n",
       "      <td>-0.30</td>\n",
       "      <td>-0.28</td>\n",
       "      <td>-0.44</td>\n",
       "      <td>-0.47</td>\n",
       "    </tr>\n",
       "    <tr>\n",
       "      <th>petal_len</th>\n",
       "      <td>-0.30</td>\n",
       "      <td>1.00</td>\n",
       "      <td>0.94</td>\n",
       "      <td>0.90</td>\n",
       "      <td>0.84</td>\n",
       "    </tr>\n",
       "    <tr>\n",
       "      <th>petal_wid</th>\n",
       "      <td>-0.28</td>\n",
       "      <td>0.94</td>\n",
       "      <td>1.00</td>\n",
       "      <td>0.97</td>\n",
       "      <td>0.84</td>\n",
       "    </tr>\n",
       "    <tr>\n",
       "      <th>ratio</th>\n",
       "      <td>-0.44</td>\n",
       "      <td>0.90</td>\n",
       "      <td>0.97</td>\n",
       "      <td>1.00</td>\n",
       "      <td>0.82</td>\n",
       "    </tr>\n",
       "    <tr>\n",
       "      <th>islong</th>\n",
       "      <td>-0.47</td>\n",
       "      <td>0.84</td>\n",
       "      <td>0.84</td>\n",
       "      <td>0.82</td>\n",
       "      <td>1.00</td>\n",
       "    </tr>\n",
       "  </tbody>\n",
       "</table>\n",
       "</div>"
      ],
      "text/plain": [
       "           sepal_wid  petal_len  petal_wid  ratio  islong\n",
       "sepal_wid       1.00      -0.30      -0.28  -0.44   -0.47\n",
       "petal_len      -0.30       1.00       0.94   0.90    0.84\n",
       "petal_wid      -0.28       0.94       1.00   0.97    0.84\n",
       "ratio          -0.44       0.90       0.97   1.00    0.82\n",
       "islong         -0.47       0.84       0.84   0.82    1.00"
      ]
     },
     "execution_count": 57,
     "metadata": {},
     "output_type": "execute_result"
    }
   ],
   "source": [
    "d = data.as_data_frame()\n",
    "d.info() #Describes the pandas DataFrame internals\n",
    "d.corr(method=\"spearman\").round(2)"
   ]
  },
  {
   "cell_type": "markdown",
   "metadata": {},
   "source": [
    "### Split data"
   ]
  },
  {
   "cell_type": "code",
   "execution_count": 58,
   "metadata": {},
   "outputs": [],
   "source": [
    "train, test, valid = data.split_frame([0.6,0.2]) # The last value is implict complementary to 1"
   ]
  },
  {
   "cell_type": "markdown",
   "metadata": {},
   "source": [
    "You can do amnual split too. Manual split use arrays index to fetch the data from original dataframe. Usefull for assigned set's dimensions or for timeseries. It slower than H2O's split library function."
   ]
  },
  {
   "cell_type": "markdown",
   "metadata": {},
   "source": [
    "### ROW AND COLUMNS\n",
    "Tou can bind different dataframe with dataframe.cbinr (for column) dataframe.rbind(df) for row or df.merge(df) for sql-like join. They are lazy operations, take effect (they are effectibly calculated) when an action will be taken (like in spark)"
   ]
  },
  {
   "cell_type": "code",
   "execution_count": 60,
   "metadata": {},
   "outputs": [
    {
     "name": "stdout",
     "output_type": "stream",
     "text": [
      "Parse progress: |█████████████████████████████████████████████████████████| 100%\n"
     ]
    }
   ],
   "source": [
    "prices = h2o.H2OFrame({\n",
    "'petal_len':[2, 3, 4, 5],\n",
    "'price':[4, 5.5, 8, 10]\n",
    "})\n",
    "\n",
    "#the merge is possible only on int column\n",
    "data[\"petal_len\"] = data[\"petal_len\"].round()\n",
    "iris_prices = data.merge(prices)"
   ]
  },
  {
   "cell_type": "code",
   "execution_count": 63,
   "metadata": {},
   "outputs": [
    {
     "name": "stdout",
     "output_type": "stream",
     "text": [
      "Rows:83\n",
      "Cols:8\n",
      "\n",
      "\n"
     ]
    },
    {
     "data": {
      "text/html": [
       "<table>\n",
       "<thead>\n",
       "<tr><th>       </th><th>petal_len         </th><th>sepal_wid         </th><th>petal_wid         </th><th>class      </th><th>ratio              </th><th>islong            </th><th>species  </th><th>price             </th></tr>\n",
       "</thead>\n",
       "<tbody>\n",
       "<tr><td>type   </td><td>int               </td><td>real              </td><td>real              </td><td>enum       </td><td>real               </td><td>int               </td><td>string   </td><td>int               </td></tr>\n",
       "<tr><td>mins   </td><td>2.0               </td><td>2.0               </td><td>0.1               </td><td>           </td><td>0.02439024390243903</td><td>0.0               </td><td>NaN      </td><td>4.0               </td></tr>\n",
       "<tr><td>mean   </td><td>3.253012048192771 </td><td>3.093975903614458 </td><td>0.7072289156626504</td><td>           </td><td>0.25249317299106444</td><td>0.3614457831325301</td><td>NaN      </td><td>6.506024096385542 </td></tr>\n",
       "<tr><td>maxs   </td><td>5.0               </td><td>4.4               </td><td>1.7               </td><td>           </td><td>0.6818181818181818 </td><td>1.0               </td><td>NaN      </td><td>10.0              </td></tr>\n",
       "<tr><td>sigma  </td><td>1.4300210939428002</td><td>0.5032454178944855</td><td>0.5341469452816217</td><td>           </td><td>0.20696607815442428</td><td>0.4833398353280309</td><td>NaN      </td><td>2.8600421878856004</td></tr>\n",
       "<tr><td>zeros  </td><td>0                 </td><td>0                 </td><td>0                 </td><td>           </td><td>0                  </td><td>53                </td><td>0        </td><td>0                 </td></tr>\n",
       "<tr><td>missing</td><td>0                 </td><td>0                 </td><td>0                 </td><td>0          </td><td>0                  </td><td>0                 </td><td>0        </td><td>0                 </td></tr>\n",
       "<tr><td>0      </td><td>2.0               </td><td>3.5               </td><td>0.2               </td><td>Iris-setosa</td><td>0.05714285714285715</td><td>0.0               </td><td>setosa   </td><td>4.0               </td></tr>\n",
       "<tr><td>1      </td><td>2.0               </td><td>3.0               </td><td>0.2               </td><td>Iris-setosa</td><td>0.06666666666666667</td><td>0.0               </td><td>setosa   </td><td>4.0               </td></tr>\n",
       "<tr><td>2      </td><td>2.0               </td><td>3.2               </td><td>0.2               </td><td>Iris-setosa</td><td>0.0625             </td><td>0.0               </td><td>setosa   </td><td>4.0               </td></tr>\n",
       "<tr><td>3      </td><td>2.0               </td><td>3.1               </td><td>0.2               </td><td>Iris-setosa</td><td>0.06451612903225806</td><td>0.0               </td><td>setosa   </td><td>4.0               </td></tr>\n",
       "<tr><td>4      </td><td>2.0               </td><td>3.6               </td><td>0.2               </td><td>Iris-setosa</td><td>0.05555555555555556</td><td>0.0               </td><td>setosa   </td><td>4.0               </td></tr>\n",
       "<tr><td>5      </td><td>2.0               </td><td>3.9               </td><td>0.4               </td><td>Iris-setosa</td><td>0.10256410256410257</td><td>0.0               </td><td>setosa   </td><td>4.0               </td></tr>\n",
       "<tr><td>6      </td><td>2.0               </td><td>3.4               </td><td>0.3               </td><td>Iris-setosa</td><td>0.08823529411764706</td><td>0.0               </td><td>setosa   </td><td>4.0               </td></tr>\n",
       "<tr><td>7      </td><td>2.0               </td><td>3.4               </td><td>0.2               </td><td>Iris-setosa</td><td>0.05882352941176471</td><td>0.0               </td><td>setosa   </td><td>4.0               </td></tr>\n",
       "<tr><td>8      </td><td>2.0               </td><td>2.9               </td><td>0.2               </td><td>Iris-setosa</td><td>0.06896551724137931</td><td>0.0               </td><td>setosa   </td><td>4.0               </td></tr>\n",
       "<tr><td>9      </td><td>2.0               </td><td>3.1               </td><td>0.1               </td><td>Iris-setosa</td><td>0.03225806451612903</td><td>0.0               </td><td>setosa   </td><td>4.0               </td></tr>\n",
       "</tbody>\n",
       "</table>"
      ]
     },
     "metadata": {},
     "output_type": "display_data"
    },
    {
     "name": "stderr",
     "output_type": "stream",
     "text": [
      "/home/francesco/anaconda3/lib/python3.6/site-packages/matplotlib/__init__.py:1855: MatplotlibDeprecationWarning: The *left* kwarg to `bar` is deprecated use *x* instead. Support for *left* will be removed in Matplotlib 3.0\n",
      "  return func(ax, *args, **kwargs)\n"
     ]
    },
    {
     "data": {
      "image/png": "[encoded data removed]",
      "text/plain": [
       "<Figure size 432x288 with 1 Axes>"
      ]
     },
     "metadata": {},
     "output_type": "display_data"
    }
   ],
   "source": [
    "iris_prices.describe()\n",
    "iris_prices['price'].hist()"
   ]
  },
  {
   "cell_type": "code",
   "execution_count": null,
   "metadata": {},
   "outputs": [],
   "source": []
  }
 ],
 "metadata": {
  "kernelspec": {
   "display_name": "Python 3",
   "language": "python",
   "name": "python3"
  },
  "language_info": {
   "codemirror_mode": {
    "name": "ipython",
    "version": 3
   },
   "file_extension": ".py",
   "mimetype": "text/x-python",
   "name": "python",
   "nbconvert_exporter": "python",
   "pygments_lexer": "ipython3",
   "version": "3.6.6"
  }
 },
 "nbformat": 4,
 "nbformat_minor": 2
}
